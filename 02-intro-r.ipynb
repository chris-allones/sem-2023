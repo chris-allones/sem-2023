{
  "cells": [
    {
      "cell_type": "raw",
      "metadata": {},
      "source": [
        "---\n",
        "title: \"Intro to R programming\"\n",
        "---"
      ],
      "id": "ab7f5f6f"
    },
    {
      "cell_type": "markdown",
      "metadata": {},
      "source": [
        "About this site\n",
        "\n",
        "\n",
        "```{html}\n",
        "<iframe src=\"https://chris-allones.github.io/sem-2023-materials/sem_presentations/01-intro-to-r/intro-to-r.html\"></iframe>\n",
        "```"
      ],
      "id": "02ee9967"
    }
  ],
  "metadata": {
    "kernelspec": {
      "display_name": "Python 3",
      "language": "python",
      "name": "python3"
    }
  },
  "nbformat": 4,
  "nbformat_minor": 5
}